{
  "nbformat": 4,
  "nbformat_minor": 0,
  "metadata": {
    "colab": {
      "name": "LS_DS_122_Chi2_Tests_Assignment_CHECK.ipynb",
      "provenance": [],
      "collapsed_sections": []
    },
    "kernelspec": {
      "name": "python3",
      "display_name": "Python 3"
    }
  },
  "cells": [
    {
      "cell_type": "markdown",
      "metadata": {
        "id": "11OzdxWTM7UR"
      },
      "source": [
        "# Lambda School Data Science - Unit 1 Sprint 2 Module 2\n",
        "\n",
        "---\n",
        "\n",
        "## Assignment: Hypothesis Testing (chi-square tests)\n"
      ]
    },
    {
      "cell_type": "markdown",
      "metadata": {
        "id": "ceuawtROodfW"
      },
      "source": [
        "# Objectives\n",
        "\n",
        "* Objective 01 - explain the purpose of a chi-square test and identify applications\n",
        "* Objective 02 - set up a chi-square test for independence on two categorical variables\n",
        "* Objective 03 - use a chi-square test p-value to draw the correct conclusion about the null and alternative hypothesis\n",
        "* Objective 04 - explain how to compare the null hypothesis and sample and how randomness in the sampling process affect the result\n",
        "\n"
      ]
    },
    {
      "cell_type": "markdown",
      "metadata": {
        "id": "Q6x9gnZ4mY84"
      },
      "source": [
        "\n",
        "\n",
        "### Dataset description:\n",
        "\n",
        "Slasher movies thrill audiences by portraying a lone antagonist (typically male) who attacks innocent victims with extreme violence and without apparent motive. However, this exciting (if gory) subgenre of horror film is criticized by those who view the violence as being used to “punish” female characters who engage in sexual activity during the film. \n",
        "\n",
        "To test this claim, study authors randomly sampled 50 North American slasher films released from 1960 to 2009 and coded the 485 characters appearing in them as being male or female, involved in sexual activity or not, and if they survived the film or not. \n",
        "\n",
        "The data appears in the Slasher.csv dataset. In this project, we are going to answer a slightly simpler question: Are female characters in slasher films more likely to be \"murdered\" than male characters?\n",
        "\n",
        "Source: A. Welsh (2010). \"On the Perils of Living Dangerously in the Slasher Horror Film: Gender Differences in the Association Between Sexual Activity and Survival,\" Sex Roles, Vol. 62 pp. 762-773\n",
        "\n",
        "You can find the Slasher.csv file here:\n",
        "\n",
        "<https://raw.githubusercontent.com/Chelsea-Myers/Lambda-Intro/master/Slasher.csv>\n",
        "\n"
      ]
    },
    {
      "cell_type": "markdown",
      "metadata": {
        "id": "QnqpG9fOaUy-"
      },
      "source": [
        "### 1) Load the Slasher.csv dataset in a new dataframe. \n",
        "\n",
        "* Call your DataFrame `slasher_df`\n",
        "* set `skipinitialspace=True`\n",
        "* set `header=0`\n"
      ]
    },
    {
      "cell_type": "code",
      "metadata": {
        "id": "UQwvrhn7m3Mn",
        "outputId": "e0a87135-193c-4b4c-9258-0d66857f83ec",
        "colab": {
          "base_uri": "https://localhost:8080/",
          "height": 195
        }
      },
      "source": [
        "# Imports (we won't provide these for every assignment!)\n",
        "import pandas as pd\n",
        "import numpy as np\n",
        "\n",
        "# Load the dataset\n",
        "slasher_df = pd.read_csv('https://raw.githubusercontent.com/Chelsea-Myers/Lambda-Intro/master/Slasher.csv', skipinitialspace=True, header=0)\n",
        "slasher_df.head()"
      ],
      "execution_count": 5,
      "outputs": [
        {
          "output_type": "execute_result",
          "data": {
            "text/html": [
              "<div>\n",
              "<style scoped>\n",
              "    .dataframe tbody tr th:only-of-type {\n",
              "        vertical-align: middle;\n",
              "    }\n",
              "\n",
              "    .dataframe tbody tr th {\n",
              "        vertical-align: top;\n",
              "    }\n",
              "\n",
              "    .dataframe thead th {\n",
              "        text-align: right;\n",
              "    }\n",
              "</style>\n",
              "<table border=\"1\" class=\"dataframe\">\n",
              "  <thead>\n",
              "    <tr style=\"text-align: right;\">\n",
              "      <th></th>\n",
              "      <th>ID</th>\n",
              "      <th>Gender</th>\n",
              "      <th>Activity</th>\n",
              "      <th>Survival</th>\n",
              "    </tr>\n",
              "  </thead>\n",
              "  <tbody>\n",
              "    <tr>\n",
              "      <th>0</th>\n",
              "      <td>1</td>\n",
              "      <td>1</td>\n",
              "      <td>1</td>\n",
              "      <td>1</td>\n",
              "    </tr>\n",
              "    <tr>\n",
              "      <th>1</th>\n",
              "      <td>2</td>\n",
              "      <td>1</td>\n",
              "      <td>1</td>\n",
              "      <td>1</td>\n",
              "    </tr>\n",
              "    <tr>\n",
              "      <th>2</th>\n",
              "      <td>3</td>\n",
              "      <td>1</td>\n",
              "      <td>1</td>\n",
              "      <td>1</td>\n",
              "    </tr>\n",
              "    <tr>\n",
              "      <th>3</th>\n",
              "      <td>4</td>\n",
              "      <td>1</td>\n",
              "      <td>1</td>\n",
              "      <td>1</td>\n",
              "    </tr>\n",
              "    <tr>\n",
              "      <th>4</th>\n",
              "      <td>5</td>\n",
              "      <td>1</td>\n",
              "      <td>1</td>\n",
              "      <td>1</td>\n",
              "    </tr>\n",
              "  </tbody>\n",
              "</table>\n",
              "</div>"
            ],
            "text/plain": [
              "   ID  Gender  Activity  Survival\n",
              "0   1       1         1         1\n",
              "1   2       1         1         1\n",
              "2   3       1         1         1\n",
              "3   4       1         1         1\n",
              "4   5       1         1         1"
            ]
          },
          "metadata": {
            "tags": []
          },
          "execution_count": 5
        }
      ]
    },
    {
      "cell_type": "markdown",
      "metadata": {
        "id": "OoCPEb_uKjHU"
      },
      "source": [
        "### Answer checks\n",
        "\n",
        "We're going to continue using the assert statements we used in the Module 1 Project (assignment) to check our work. The cells with the `assert` statements can be skipped or deleted but you should try to leave them in. Remember - it's a way to check your work as you go through this Module Project and also get some feedback if you have an error."
      ]
    },
    {
      "cell_type": "markdown",
      "metadata": {
        "id": "llP1_XV0ak8C"
      },
      "source": [
        "###2) Display the top 5 rows of the dataframe to take a look at the variable names and values."
      ]
    },
    {
      "cell_type": "code",
      "metadata": {
        "id": "Ws10E-kqayJZ",
        "outputId": "42b36c63-315a-41da-ad10-dc9a8296d7b2",
        "colab": {
          "base_uri": "https://localhost:8080/",
          "height": 195
        }
      },
      "source": [
        "slasher_df.head()"
      ],
      "execution_count": 8,
      "outputs": [
        {
          "output_type": "execute_result",
          "data": {
            "text/html": [
              "<div>\n",
              "<style scoped>\n",
              "    .dataframe tbody tr th:only-of-type {\n",
              "        vertical-align: middle;\n",
              "    }\n",
              "\n",
              "    .dataframe tbody tr th {\n",
              "        vertical-align: top;\n",
              "    }\n",
              "\n",
              "    .dataframe thead th {\n",
              "        text-align: right;\n",
              "    }\n",
              "</style>\n",
              "<table border=\"1\" class=\"dataframe\">\n",
              "  <thead>\n",
              "    <tr style=\"text-align: right;\">\n",
              "      <th></th>\n",
              "      <th>ID</th>\n",
              "      <th>Gender</th>\n",
              "      <th>Activity</th>\n",
              "      <th>Survival</th>\n",
              "    </tr>\n",
              "  </thead>\n",
              "  <tbody>\n",
              "    <tr>\n",
              "      <th>0</th>\n",
              "      <td>1</td>\n",
              "      <td>1</td>\n",
              "      <td>1</td>\n",
              "      <td>1</td>\n",
              "    </tr>\n",
              "    <tr>\n",
              "      <th>1</th>\n",
              "      <td>2</td>\n",
              "      <td>1</td>\n",
              "      <td>1</td>\n",
              "      <td>1</td>\n",
              "    </tr>\n",
              "    <tr>\n",
              "      <th>2</th>\n",
              "      <td>3</td>\n",
              "      <td>1</td>\n",
              "      <td>1</td>\n",
              "      <td>1</td>\n",
              "    </tr>\n",
              "    <tr>\n",
              "      <th>3</th>\n",
              "      <td>4</td>\n",
              "      <td>1</td>\n",
              "      <td>1</td>\n",
              "      <td>1</td>\n",
              "    </tr>\n",
              "    <tr>\n",
              "      <th>4</th>\n",
              "      <td>5</td>\n",
              "      <td>1</td>\n",
              "      <td>1</td>\n",
              "      <td>1</td>\n",
              "    </tr>\n",
              "  </tbody>\n",
              "</table>\n",
              "</div>"
            ],
            "text/plain": [
              "   ID  Gender  Activity  Survival\n",
              "0   1       1         1         1\n",
              "1   2       1         1         1\n",
              "2   3       1         1         1\n",
              "3   4       1         1         1\n",
              "4   5       1         1         1"
            ]
          },
          "metadata": {
            "tags": []
          },
          "execution_count": 8
        }
      ]
    },
    {
      "cell_type": "code",
      "metadata": {
        "id": "hOcou0czLF6l",
        "outputId": "1c49c199-7d84-48f1-da54-0cae437021a7",
        "colab": {
          "base_uri": "https://localhost:8080/",
          "height": 34
        }
      },
      "source": [
        "# This is an ANSWER CHECK cell.\n",
        "# Don't alter this cell if you want accurate feedback\n",
        "#------------------------------------------------------------------------------#\n",
        "\n",
        "# check if the DataFrame was created\n",
        "assert not slasher_df.empty, 'Make sure the df name is accurate and you loaded the correct URL.'\n",
        "# check the shape of the DataFrame\n",
        "assert slasher_df.shape == (485, 4), 'Is your data loaded with the correct argument?'\n",
        "print('Correct! Continue to the next question')"
      ],
      "execution_count": 10,
      "outputs": [
        {
          "output_type": "stream",
          "text": [
            "Correct! Continue to the next question\n"
          ],
          "name": "stdout"
        }
      ]
    },
    {
      "cell_type": "markdown",
      "metadata": {
        "id": "PAHPjE4Ea52w"
      },
      "source": [
        "In this dataset, the variable codes are:\n",
        "\n",
        "* ID = Character ID\n",
        "* Gender = Character gender.  0 = female, 1 = male\n",
        "* Activity = Character was portrayed as engaged in sexual activity.  0 = no, 1 = yes\n",
        "* Survival = Character survival in the film. 0 = did not survive, 1 = survived"
      ]
    },
    {
      "cell_type": "markdown",
      "metadata": {
        "id": "pabzhfvLbdFZ"
      },
      "source": [
        "###3) Calculate the frequency and relative frequency of male and female characters in this set of slasher films.  Describe your results in a sentence or two and use your results to answer the question below."
      ]
    },
    {
      "cell_type": "code",
      "metadata": {
        "id": "9gIQaRsQbt77",
        "outputId": "91a91a1d-377b-4fd4-deb2-7b1f06b8d63c",
        "colab": {
          "base_uri": "https://localhost:8080/",
          "height": 136
        }
      },
      "source": [
        "gender = pd.crosstab(slasher_df['Gender'], 'Count')\n",
        "rel_gender = gender/gender.sum()*100\n",
        "rel_gender"
      ],
      "execution_count": 14,
      "outputs": [
        {
          "output_type": "execute_result",
          "data": {
            "text/html": [
              "<div>\n",
              "<style scoped>\n",
              "    .dataframe tbody tr th:only-of-type {\n",
              "        vertical-align: middle;\n",
              "    }\n",
              "\n",
              "    .dataframe tbody tr th {\n",
              "        vertical-align: top;\n",
              "    }\n",
              "\n",
              "    .dataframe thead th {\n",
              "        text-align: right;\n",
              "    }\n",
              "</style>\n",
              "<table border=\"1\" class=\"dataframe\">\n",
              "  <thead>\n",
              "    <tr style=\"text-align: right;\">\n",
              "      <th>col_0</th>\n",
              "      <th>Count</th>\n",
              "    </tr>\n",
              "    <tr>\n",
              "      <th>Gender</th>\n",
              "      <th></th>\n",
              "    </tr>\n",
              "  </thead>\n",
              "  <tbody>\n",
              "    <tr>\n",
              "      <th>0</th>\n",
              "      <td>54.226804</td>\n",
              "    </tr>\n",
              "    <tr>\n",
              "      <th>1</th>\n",
              "      <td>45.773196</td>\n",
              "    </tr>\n",
              "  </tbody>\n",
              "</table>\n",
              "</div>"
            ],
            "text/plain": [
              "col_0       Count\n",
              "Gender           \n",
              "0       54.226804\n",
              "1       45.773196"
            ]
          },
          "metadata": {
            "tags": []
          },
          "execution_count": 14
        }
      ]
    },
    {
      "cell_type": "markdown",
      "metadata": {
        "id": "ozFYFgE8JgXn"
      },
      "source": [
        "QUIZ: What percentage of the characters are **female** (gender = 0)? Run the cell below, and enter your percentage (*rounded to the nearest whole number*). Then run the QUIZ CHECK cell.\n",
        "\n",
        "---\n",
        "\n"
      ]
    },
    {
      "cell_type": "code",
      "metadata": {
        "id": "quYGdZz5J-s7",
        "outputId": "551c2a78-7c8c-4e39-964f-ca4d16ce4437",
        "colab": {
          "base_uri": "https://localhost:8080/",
          "height": 34
        }
      },
      "source": [
        "# This is an QUIZ cell. Run the cell, enter your answer.\n",
        "# Don't alter this cell if you want accurate feedback\n",
        "#------------------------------------------------------------------------------#\n",
        "female_percent = input()"
      ],
      "execution_count": 15,
      "outputs": [
        {
          "output_type": "stream",
          "text": [
            "54\n"
          ],
          "name": "stdout"
        }
      ]
    },
    {
      "cell_type": "code",
      "metadata": {
        "id": "EKbpo1IJexVw"
      },
      "source": [
        "# QUIZ CHECK cell\n",
        "#------------------------------------------------------------------------------#\n",
        "assert female_percent == str(54), 'Double check your percentages.'\n",
        "print('Correct! Continue to the next question.')"
      ],
      "execution_count": null,
      "outputs": []
    },
    {
      "cell_type": "markdown",
      "metadata": {
        "id": "Q79IYzM7bz4j"
      },
      "source": [
        "More actors were female rather than male."
      ]
    },
    {
      "cell_type": "markdown",
      "metadata": {
        "id": "jnfrbmCvnMM_"
      },
      "source": [
        "###4) Calculate the frequency and relative frequency of character survival in this set of slasher films.  Describe your results in a sentence or two."
      ]
    },
    {
      "cell_type": "code",
      "metadata": {
        "id": "eATj3sKHnU_c",
        "outputId": "963a1e5e-577f-49d8-bf42-4ff9afa14153",
        "colab": {
          "base_uri": "https://localhost:8080/",
          "height": 136
        }
      },
      "source": [
        "survival = pd.crosstab(slasher_df['Survival'], 'Count')\n",
        "rel_survival = survival/survival.sum()*100\n",
        "rel_survival"
      ],
      "execution_count": 16,
      "outputs": [
        {
          "output_type": "execute_result",
          "data": {
            "text/html": [
              "<div>\n",
              "<style scoped>\n",
              "    .dataframe tbody tr th:only-of-type {\n",
              "        vertical-align: middle;\n",
              "    }\n",
              "\n",
              "    .dataframe tbody tr th {\n",
              "        vertical-align: top;\n",
              "    }\n",
              "\n",
              "    .dataframe thead th {\n",
              "        text-align: right;\n",
              "    }\n",
              "</style>\n",
              "<table border=\"1\" class=\"dataframe\">\n",
              "  <thead>\n",
              "    <tr style=\"text-align: right;\">\n",
              "      <th>col_0</th>\n",
              "      <th>Count</th>\n",
              "    </tr>\n",
              "    <tr>\n",
              "      <th>Survival</th>\n",
              "      <th></th>\n",
              "    </tr>\n",
              "  </thead>\n",
              "  <tbody>\n",
              "    <tr>\n",
              "      <th>0</th>\n",
              "      <td>82.474227</td>\n",
              "    </tr>\n",
              "    <tr>\n",
              "      <th>1</th>\n",
              "      <td>17.525773</td>\n",
              "    </tr>\n",
              "  </tbody>\n",
              "</table>\n",
              "</div>"
            ],
            "text/plain": [
              "col_0         Count\n",
              "Survival           \n",
              "0         82.474227\n",
              "1         17.525773"
            ]
          },
          "metadata": {
            "tags": []
          },
          "execution_count": 16
        }
      ]
    },
    {
      "cell_type": "markdown",
      "metadata": {
        "id": "VYiobiSMnXAT"
      },
      "source": [
        "A lot more people died in the movies rather than survived."
      ]
    },
    {
      "cell_type": "markdown",
      "metadata": {
        "id": "YzjkSGa7gyWH"
      },
      "source": [
        "QUIZ: What percentage of female characters *survived*? Run the cell below, enter your percentage (*rounded to the nearest whole number*)."
      ]
    },
    {
      "cell_type": "code",
      "metadata": {
        "id": "zI9rL96ngFSb",
        "outputId": "6aabf246-e8ae-4019-d4ed-71bd45e01d0b",
        "colab": {
          "base_uri": "https://localhost:8080/",
          "height": 34
        }
      },
      "source": [
        "# This is an QUIZ cell. Run the cell, enter your answer.\n",
        "# Don't alter this cell if you want accurate feedback\n",
        "#------------------------------------------------------------------------------#\n",
        "female_percent_survival = input()"
      ],
      "execution_count": 17,
      "outputs": [
        {
          "output_type": "stream",
          "text": [
            "82\n"
          ],
          "name": "stdout"
        }
      ]
    },
    {
      "cell_type": "code",
      "metadata": {
        "id": "oyhLDzDAgIxK"
      },
      "source": [
        "# QUIZ CHECK cell\n",
        "#------------------------------------------------------------------------------#\n",
        "assert female_percent_survival == str(82), 'Double check your percentages.'\n",
        "print('Correct! Continue to the next question.')"
      ],
      "execution_count": null,
      "outputs": []
    },
    {
      "cell_type": "markdown",
      "metadata": {
        "id": "0K1kuj8yb5BD"
      },
      "source": [
        "### 5) Calculate the joint distribution of character sex and movie survival. \n",
        "\n",
        "Hint: If you are working from the in-class examples, it will be helpful to include character sex as the index variable. \n",
        "\n",
        "Describe your results in a sentence or two."
      ]
    },
    {
      "cell_type": "code",
      "metadata": {
        "id": "lBqo9mPJcApw",
        "outputId": "838c397c-14a6-4c16-f45c-afe4cda6aa9d",
        "colab": {
          "base_uri": "https://localhost:8080/",
          "height": 136
        }
      },
      "source": [
        "# Calculate the joint distribution\n",
        "joint = pd.crosstab(slasher_df['Gender'], slasher_df['Survival'])\n",
        "joint"
      ],
      "execution_count": 19,
      "outputs": [
        {
          "output_type": "execute_result",
          "data": {
            "text/html": [
              "<div>\n",
              "<style scoped>\n",
              "    .dataframe tbody tr th:only-of-type {\n",
              "        vertical-align: middle;\n",
              "    }\n",
              "\n",
              "    .dataframe tbody tr th {\n",
              "        vertical-align: top;\n",
              "    }\n",
              "\n",
              "    .dataframe thead th {\n",
              "        text-align: right;\n",
              "    }\n",
              "</style>\n",
              "<table border=\"1\" class=\"dataframe\">\n",
              "  <thead>\n",
              "    <tr style=\"text-align: right;\">\n",
              "      <th>Survival</th>\n",
              "      <th>0</th>\n",
              "      <th>1</th>\n",
              "    </tr>\n",
              "    <tr>\n",
              "      <th>Gender</th>\n",
              "      <th></th>\n",
              "      <th></th>\n",
              "    </tr>\n",
              "  </thead>\n",
              "  <tbody>\n",
              "    <tr>\n",
              "      <th>0</th>\n",
              "      <td>228</td>\n",
              "      <td>35</td>\n",
              "    </tr>\n",
              "    <tr>\n",
              "      <th>1</th>\n",
              "      <td>172</td>\n",
              "      <td>50</td>\n",
              "    </tr>\n",
              "  </tbody>\n",
              "</table>\n",
              "</div>"
            ],
            "text/plain": [
              "Survival    0   1\n",
              "Gender           \n",
              "0         228  35\n",
              "1         172  50"
            ]
          },
          "metadata": {
            "tags": []
          },
          "execution_count": 19
        }
      ]
    },
    {
      "cell_type": "markdown",
      "metadata": {
        "id": "IRU0Hd1-wCpW"
      },
      "source": [
        "### 5b) Do the same as 5a) but **add the table margins**.  Assign this to a variable called `joint_dist_margins`."
      ]
    },
    {
      "cell_type": "code",
      "metadata": {
        "id": "PAe3sdeqoLnh",
        "outputId": "a78c1380-1c4f-45fd-cd30-60f6270253df",
        "colab": {
          "base_uri": "https://localhost:8080/",
          "height": 166
        }
      },
      "source": [
        "# Add the table margins to the joint distribution\n",
        "joint_dist_margins = pd.crosstab(slasher_df['Gender'], slasher_df['Survival'], margins=True)\n",
        "joint_dist_margins"
      ],
      "execution_count": 29,
      "outputs": [
        {
          "output_type": "execute_result",
          "data": {
            "text/html": [
              "<div>\n",
              "<style scoped>\n",
              "    .dataframe tbody tr th:only-of-type {\n",
              "        vertical-align: middle;\n",
              "    }\n",
              "\n",
              "    .dataframe tbody tr th {\n",
              "        vertical-align: top;\n",
              "    }\n",
              "\n",
              "    .dataframe thead th {\n",
              "        text-align: right;\n",
              "    }\n",
              "</style>\n",
              "<table border=\"1\" class=\"dataframe\">\n",
              "  <thead>\n",
              "    <tr style=\"text-align: right;\">\n",
              "      <th>Survival</th>\n",
              "      <th>0</th>\n",
              "      <th>1</th>\n",
              "      <th>All</th>\n",
              "    </tr>\n",
              "    <tr>\n",
              "      <th>Gender</th>\n",
              "      <th></th>\n",
              "      <th></th>\n",
              "      <th></th>\n",
              "    </tr>\n",
              "  </thead>\n",
              "  <tbody>\n",
              "    <tr>\n",
              "      <th>0</th>\n",
              "      <td>228</td>\n",
              "      <td>35</td>\n",
              "      <td>263</td>\n",
              "    </tr>\n",
              "    <tr>\n",
              "      <th>1</th>\n",
              "      <td>172</td>\n",
              "      <td>50</td>\n",
              "      <td>222</td>\n",
              "    </tr>\n",
              "    <tr>\n",
              "      <th>All</th>\n",
              "      <td>400</td>\n",
              "      <td>85</td>\n",
              "      <td>485</td>\n",
              "    </tr>\n",
              "  </tbody>\n",
              "</table>\n",
              "</div>"
            ],
            "text/plain": [
              "Survival    0   1  All\n",
              "Gender                \n",
              "0         228  35  263\n",
              "1         172  50  222\n",
              "All       400  85  485"
            ]
          },
          "metadata": {
            "tags": []
          },
          "execution_count": 29
        }
      ]
    },
    {
      "cell_type": "code",
      "metadata": {
        "id": "iLvgeckeeL9g",
        "outputId": "07dc733d-8111-43f4-a757-4d8d05c1e085",
        "colab": {
          "base_uri": "https://localhost:8080/",
          "height": 212
        }
      },
      "source": [
        "# This is an ANSWER CHECK cell.\n",
        "# Don't alter this cell if you want accurate feedback\n",
        "#------------------------------------------------------------------------------#\n",
        "\n",
        "# check if the DataFrame was created\n",
        "assert not joint_dist_margins.empty, 'Did you create your DataFrame with the joint distribution?'\n",
        "# check the shape of the DataFrame\n",
        "assert slasher_df.shape == (3, 3), 'Did you include the margins?'\n",
        "print('Correct! Continue to the next question.')"
      ],
      "execution_count": 28,
      "outputs": [
        {
          "output_type": "error",
          "ename": "AssertionError",
          "evalue": "ignored",
          "traceback": [
            "\u001b[0;31m---------------------------------------------------------------------------\u001b[0m",
            "\u001b[0;31mAssertionError\u001b[0m                            Traceback (most recent call last)",
            "\u001b[0;32m<ipython-input-28-bc3339ad580b>\u001b[0m in \u001b[0;36m<module>\u001b[0;34m()\u001b[0m\n\u001b[1;32m      6\u001b[0m \u001b[0;32massert\u001b[0m \u001b[0;32mnot\u001b[0m \u001b[0mjoint_dist_margins\u001b[0m\u001b[0;34m.\u001b[0m\u001b[0mempty\u001b[0m\u001b[0;34m,\u001b[0m \u001b[0;34m'Did you create your DataFrame with the joint distribution?'\u001b[0m\u001b[0;34m\u001b[0m\u001b[0;34m\u001b[0m\u001b[0m\n\u001b[1;32m      7\u001b[0m \u001b[0;31m# check the shape of the DataFrame\u001b[0m\u001b[0;34m\u001b[0m\u001b[0;34m\u001b[0m\u001b[0;34m\u001b[0m\u001b[0m\n\u001b[0;32m----> 8\u001b[0;31m \u001b[0;32massert\u001b[0m \u001b[0mslasher_df\u001b[0m\u001b[0;34m.\u001b[0m\u001b[0mshape\u001b[0m \u001b[0;34m==\u001b[0m \u001b[0;34m(\u001b[0m\u001b[0;36m3\u001b[0m\u001b[0;34m,\u001b[0m \u001b[0;36m3\u001b[0m\u001b[0;34m)\u001b[0m\u001b[0;34m,\u001b[0m \u001b[0;34m'Did you include the margins?'\u001b[0m\u001b[0;34m\u001b[0m\u001b[0;34m\u001b[0m\u001b[0m\n\u001b[0m\u001b[1;32m      9\u001b[0m \u001b[0mprint\u001b[0m\u001b[0;34m(\u001b[0m\u001b[0;34m'Correct! Continue to the next question.'\u001b[0m\u001b[0;34m)\u001b[0m\u001b[0;34m\u001b[0m\u001b[0;34m\u001b[0m\u001b[0m\n",
            "\u001b[0;31mAssertionError\u001b[0m: Did you include the margins?"
          ]
        }
      ]
    },
    {
      "cell_type": "markdown",
      "metadata": {
        "id": "63H4QMgKcDEp"
      },
      "source": [
        "It appears that a lot more female characters died in the movies rather than male characters."
      ]
    },
    {
      "cell_type": "markdown",
      "metadata": {
        "id": "Pf9boTsRpe9J"
      },
      "source": [
        "###6) Calculate the distribution of survival conditional on character sex.\n",
        "* assign the crosstab DataFrame to the variable `slasher_survival`\n",
        "* make sure to normalize on the \"index\"\n",
        "* multiply the resulting DataFrame by 100 to return answers as percents\n",
        "\n",
        "Hint: If you are working from the in-class examples, it will be helpful to include character sex as the index variable. \n",
        "\n",
        "Describe your results in a sentence or two in the cell below."
      ]
    },
    {
      "cell_type": "code",
      "metadata": {
        "id": "ByWE_M1RpqSy",
        "outputId": "b9740eb6-f562-4131-8f93-14864db25a21",
        "colab": {
          "base_uri": "https://localhost:8080/",
          "height": 136
        }
      },
      "source": [
        "# Create your slasher_survival DataFrame here\n",
        "slasher_survival = pd.crosstab(slasher_df['Gender'], slasher_df['Survival'], normalize='index')*100\n",
        "slasher_survival"
      ],
      "execution_count": 31,
      "outputs": [
        {
          "output_type": "execute_result",
          "data": {
            "text/html": [
              "<div>\n",
              "<style scoped>\n",
              "    .dataframe tbody tr th:only-of-type {\n",
              "        vertical-align: middle;\n",
              "    }\n",
              "\n",
              "    .dataframe tbody tr th {\n",
              "        vertical-align: top;\n",
              "    }\n",
              "\n",
              "    .dataframe thead th {\n",
              "        text-align: right;\n",
              "    }\n",
              "</style>\n",
              "<table border=\"1\" class=\"dataframe\">\n",
              "  <thead>\n",
              "    <tr style=\"text-align: right;\">\n",
              "      <th>Survival</th>\n",
              "      <th>0</th>\n",
              "      <th>1</th>\n",
              "    </tr>\n",
              "    <tr>\n",
              "      <th>Gender</th>\n",
              "      <th></th>\n",
              "      <th></th>\n",
              "    </tr>\n",
              "  </thead>\n",
              "  <tbody>\n",
              "    <tr>\n",
              "      <th>0</th>\n",
              "      <td>86.692015</td>\n",
              "      <td>13.307985</td>\n",
              "    </tr>\n",
              "    <tr>\n",
              "      <th>1</th>\n",
              "      <td>77.477477</td>\n",
              "      <td>22.522523</td>\n",
              "    </tr>\n",
              "  </tbody>\n",
              "</table>\n",
              "</div>"
            ],
            "text/plain": [
              "Survival          0          1\n",
              "Gender                        \n",
              "0         86.692015  13.307985\n",
              "1         77.477477  22.522523"
            ]
          },
          "metadata": {
            "tags": []
          },
          "execution_count": 31
        }
      ]
    },
    {
      "cell_type": "code",
      "metadata": {
        "id": "t-MfaLjCnt6i",
        "outputId": "ad289a8f-6023-49cc-fb85-4bb22521957b",
        "colab": {
          "base_uri": "https://localhost:8080/",
          "height": 34
        }
      },
      "source": [
        "# This is an ANSWER CHECK cell.\n",
        "# Don't alter this cell if you want accurate feedback\n",
        "#------------------------------------------------------------------------------#\n",
        "\n",
        "# check if the DataFrame was created\n",
        "assert not slasher_survival.empty, 'Did you calculate the distribution?'\n",
        "# check the shape of the DataFrame\n",
        "assert round(slasher_survival[0][0]) == 87.0, 'Is your DataFrame normalized and converted to a percent?'\n",
        "print('Correct! Continue to the next question.')"
      ],
      "execution_count": 32,
      "outputs": [
        {
          "output_type": "stream",
          "text": [
            "Correct! Continue to the next question.\n"
          ],
          "name": "stdout"
        }
      ]
    },
    {
      "cell_type": "markdown",
      "metadata": {
        "id": "tdtRWqwcpquG"
      },
      "source": [
        "86% of female characters died when only 77% of male characters died. So a lot more females did die but not as many as it appeared from before."
      ]
    },
    {
      "cell_type": "markdown",
      "metadata": {
        "id": "ODJU68cMKJ57"
      },
      "source": [
        "###7) Identify the appropriate null and alternative hypotheses to test for a statistically significant relationship between character sex and survival. \n",
        "\n",
        "**Ho:** There is no relationship between character sex and movie survival.\n",
        "\n",
        "**Ha:**. There is a relationship between character sex and movie survival."
      ]
    },
    {
      "cell_type": "markdown",
      "metadata": {
        "id": "RXPZZuAi3ccI"
      },
      "source": [
        "### 8) Perform the chi-square test above using `stats.chi2_contingency()`. The docs for this function are found [here](https://docs.scipy.org/doc/scipy/reference/generated/scipy.stats.chi2_contingency.html).\n",
        "\n",
        "* assign the p-value to the variable `p_val`\n",
        "* assign the other variables to whatever names you prefer\n"
      ]
    },
    {
      "cell_type": "code",
      "metadata": {
        "id": "Ckcr4A4FM7cs",
        "outputId": "d8ae7e57-6b93-4abd-aa35-0a41b87e430f",
        "colab": {
          "base_uri": "https://localhost:8080/",
          "height": 34
        }
      },
      "source": [
        "# Perform the chi-square test\n",
        "from scipy.stats import chi2_contingency\n",
        "\n",
        "g, p_val, dof, expctd = chi2_contingency(joint)\n",
        "print(p_val)\n"
      ],
      "execution_count": 37,
      "outputs": [
        {
          "output_type": "stream",
          "text": [
            "0.011104692591139975\n"
          ],
          "name": "stdout"
        }
      ]
    },
    {
      "cell_type": "code",
      "metadata": {
        "id": "rxfmQ5dhd-uU",
        "outputId": "c0e0347f-02bd-4700-bbc9-7760a49e410a",
        "colab": {
          "base_uri": "https://localhost:8080/",
          "height": 34
        }
      },
      "source": [
        "# This is an ANSWER CHECK cell.\n",
        "# Don't alter this cell if you want accurate feedback\n",
        "#------------------------------------------------------------------------------#\n",
        "\n",
        "# check the p_val\n",
        "assert round(p_val, 2) == 0.01, 'Double-check the variables you returned; p_val should be the second in the list'\n",
        "print('Correct! Continue to the next question.')"
      ],
      "execution_count": 38,
      "outputs": [
        {
          "output_type": "stream",
          "text": [
            "Correct! Continue to the next question.\n"
          ],
          "name": "stdout"
        }
      ]
    },
    {
      "cell_type": "markdown",
      "metadata": {
        "id": "Tf7XPpBP6YqX"
      },
      "source": [
        "### 9) Interpret your p-value in 8) using the alpha = 0.05 significance level, and summarize your results in a sentence or two."
      ]
    },
    {
      "cell_type": "markdown",
      "metadata": {
        "id": "N5v6Sca8LDmy"
      },
      "source": [
        "The p-value is less than our significance level, therefore we can reject our null hypothesis that there is no relationship between the frequency of gender and deaths. We can conclude that there is a statistical relationship between ther gender and frequency of character deaths."
      ]
    },
    {
      "cell_type": "markdown",
      "metadata": {
        "id": "6fuCbToDLTO0"
      },
      "source": [
        "### 10) Create a side-by-side bar plot to illustrate the relationship between character sex and survival in slasher movies.  Sum up your overall results in a sentence or two."
      ]
    },
    {
      "cell_type": "code",
      "metadata": {
        "id": "Et5DtusY6maX",
        "outputId": "e5d6e321-43e7-47b8-e195-2da639c578dd",
        "colab": {
          "base_uri": "https://localhost:8080/",
          "height": 281
        }
      },
      "source": [
        "# Plot time!\n",
        "import matplotlib.pyplot as plt\n",
        "\n",
        "fig, ax = plt.subplots()\n",
        "fig.set_facecolor('w')\n",
        "ax.set_title('Percentage of Character Deaths by Gender')\n",
        "\n",
        "bar1 = ax.bar((0,1), (slasher_survival[0][0], slasher_survival[0][1]), width=.4)\n",
        "bar2 = ax.bar((.4,1.4), (slasher_survival[1][0], slasher_survival[1][1]), width=.4)\n",
        "\n",
        "ax.set_ylabel('Percentage')\n",
        "ax.set_xticks((.2, 1.2))\n",
        "ax.set_xticklabels(('Female', 'Male'))\n",
        "ax.legend((bar1[0], bar2[0]), ('Died', 'Survived'))\n",
        "\n",
        "plt.show()"
      ],
      "execution_count": 53,
      "outputs": [
        {
          "output_type": "display_data",
          "data": {
            "image/png": "[encoded data removed]",
            "text/plain": [
              "<Figure size 432x288 with 1 Axes>"
            ]
          },
          "metadata": {
            "tags": []
          }
        }
      ]
    },
    {
      "cell_type": "markdown",
      "metadata": {
        "id": "Juj8P8RgLoiZ"
      },
      "source": [
        "Female characters are more likely to survive a slasher film than male characters, but both (unsuprisingly) don't have a good survival rate."
      ]
    }
  ]
}