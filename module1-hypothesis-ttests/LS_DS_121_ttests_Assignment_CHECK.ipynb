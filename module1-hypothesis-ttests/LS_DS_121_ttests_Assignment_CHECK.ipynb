{
  "nbformat": 4,
  "nbformat_minor": 0,
  "metadata": {
    "colab": {
      "name": "LS_DS_121_ttests_Assignment_CHECK.ipynb",
      "provenance": [],
      "collapsed_sections": []
    },
    "kernelspec": {
      "name": "python3",
      "display_name": "Python 3"
    }
  },
  "cells": [
    {
      "cell_type": "markdown",
      "metadata": {
        "id": "838Dmw1kM2LK"
      },
      "source": [
        "# Lambda School Data Science - Unit 1 Sprint 2 Module 1\n",
        "\n",
        "---\n",
        "\n",
        "## Assignment:  Hypothesis Testing (t-tests)"
      ]
    },
    {
      "cell_type": "markdown",
      "metadata": {
        "id": "zzFoOHrAlceg"
      },
      "source": [
        "# Objectives\n",
        "\n",
        "* Objective 01 - explain the purpose of a t-test and identify applications\n",
        "* Objective 02 - set up and run a one-sample t-test\n",
        "* Objective 03 - set up and run a two-sample independent t-test\n"
      ]
    },
    {
      "cell_type": "markdown",
      "metadata": {
        "id": "XvoOHjnMR42h"
      },
      "source": [
        "# Use the following to answer questions 1) - 5)\n",
        "\n",
        "Adapted from: A. Bhatnagar and V.K. Mehta (2007). \"Efficacy of Deltamethrin and Cyfluthrin Impregnated Cloth Over Uniform Against Mosquito Bites,\" Medical Journal Armed Forces India, Vol. 63, pp. 120-122.\n",
        "\n",
        "Mosquito nets have traditionally been an important tool to prevent mosquito bites in parts of the world where malaria is endemic. However, it may not be practical for an army that is on the move to set up and carry mosquito nets each night and day. Impregnating soldiers’ uniforms with insect repellant solves the mobility problem but also has drawbacks. First, the insect repellant quickly becomes ineffective with repeated washing and ironing and must be frequently reapplied. Second, in hot and humid climates the insect repellant can be absorbed through the skin, and the long-term effects of this exposure are unknown. One compromise is to have soldiers apply patches treated with insect repellant to their clothing. These patches would last longer because they would not be washed or ironed and would not expose the entire body to the insect repellant.\n",
        "\n",
        "### Experiment description:\n",
        "\n",
        "The `Mosquito.xlsx` dataset contains data recorded in an experiment conducted on male soldiers in the Indian Army who were stationed in the Tezpur/Solmara garrison in Northeast India. \n",
        "\n",
        "Thirty soldiers were randomly selected to receive one of three types of mosquito single repellant patch. After giving informed consent, the study participants affixed the patches at predetermined points on their uniforms. Research assistants (who were blinded to the type of repellant used) counted the number of times a mosquito landed on each individual in an hour. \n",
        "\n",
        "Medical officers with the Indian Army have recorded data on mosquito bites and related illness for many years and can say with authority that the mean number of mosquito touches for soldiers not wearing any mosquito repellant is **8.2 per hour**.\n",
        "\n",
        "**We wish to determine if wearing a single repellant patch changes the mean number of mosquito touches for soldiers compared to not wearing any mosquito repellant.**\n",
        " "
      ]
    },
    {
      "cell_type": "code",
      "metadata": {
        "id": "-5ubUxGnTn6k"
      },
      "source": [
        "# Run this cell to load the dataset in a DataFrame\n",
        "import pandas as pd\n",
        "\n",
        "mosquito_url = 'https://raw.githubusercontent.com/Chelsea-Myers/Lambda-Intro/master/Mosquito.csv'\n",
        "\n",
        "mosquito_df = pd.read_csv(mosquito_url, skipinitialspace=True, header=0)"
      ],
      "execution_count": 1,
      "outputs": []
    },
    {
      "cell_type": "code",
      "metadata": {
        "id": "Y2pZB8PBNlqC",
        "outputId": "b409f6f8-50bd-42ec-ac76-71caa44b2071",
        "colab": {
          "base_uri": "https://localhost:8080/",
          "height": 212
        }
      },
      "source": [
        "# Print out the shape and look at the DataFrame\n",
        "\n",
        "print(mosquito_df.shape)\n",
        "mosquito_df.head()"
      ],
      "execution_count": 2,
      "outputs": [
        {
          "output_type": "stream",
          "text": [
            "(90, 2)\n"
          ],
          "name": "stdout"
        },
        {
          "output_type": "execute_result",
          "data": {
            "text/html": [
              "<div>\n",
              "<style scoped>\n",
              "    .dataframe tbody tr th:only-of-type {\n",
              "        vertical-align: middle;\n",
              "    }\n",
              "\n",
              "    .dataframe tbody tr th {\n",
              "        vertical-align: top;\n",
              "    }\n",
              "\n",
              "    .dataframe thead th {\n",
              "        text-align: right;\n",
              "    }\n",
              "</style>\n",
              "<table border=\"1\" class=\"dataframe\">\n",
              "  <thead>\n",
              "    <tr style=\"text-align: right;\">\n",
              "      <th></th>\n",
              "      <th>ID</th>\n",
              "      <th>Mosq_count</th>\n",
              "    </tr>\n",
              "  </thead>\n",
              "  <tbody>\n",
              "    <tr>\n",
              "      <th>0</th>\n",
              "      <td>1</td>\n",
              "      <td>4</td>\n",
              "    </tr>\n",
              "    <tr>\n",
              "      <th>1</th>\n",
              "      <td>2</td>\n",
              "      <td>10</td>\n",
              "    </tr>\n",
              "    <tr>\n",
              "      <th>2</th>\n",
              "      <td>3</td>\n",
              "      <td>13</td>\n",
              "    </tr>\n",
              "    <tr>\n",
              "      <th>3</th>\n",
              "      <td>4</td>\n",
              "      <td>0</td>\n",
              "    </tr>\n",
              "    <tr>\n",
              "      <th>4</th>\n",
              "      <td>5</td>\n",
              "      <td>11</td>\n",
              "    </tr>\n",
              "  </tbody>\n",
              "</table>\n",
              "</div>"
            ],
            "text/plain": [
              "   ID  Mosq_count\n",
              "0   1           4\n",
              "1   2          10\n",
              "2   3          13\n",
              "3   4           0\n",
              "4   5          11"
            ]
          },
          "metadata": {
            "tags": []
          },
          "execution_count": 2
        }
      ]
    },
    {
      "cell_type": "markdown",
      "metadata": {
        "id": "OoCPEb_uKjHU"
      },
      "source": [
        "### Answer checks\n",
        "\n",
        "We're going to start using the assert statements we learned about earlier to check our work. The cells with thes `assert` statements can be skipped or deleted but you should try to leave them in. It's a way to check your work as you go through this Module Project and also get some feedback if you have an error."
      ]
    },
    {
      "cell_type": "code",
      "metadata": {
        "id": "hOcou0czLF6l",
        "outputId": "b4de89b6-f00d-4875-94cf-a5c69536cb08",
        "colab": {
          "base_uri": "https://localhost:8080/",
          "height": 34
        }
      },
      "source": [
        "# This is an ANSWER CHECK cell.\n",
        "# Don't alter this cell if you want accurate feedback\n",
        "#------------------------------------------------------------------------------#\n",
        "\n",
        "# check if the DataFrame was created\n",
        "assert not mosquito_df.empty, 'Make sure to run the cell to load in your dataset.'\n",
        "# check the shape of the DataFrame\n",
        "assert mosquito_df.shape == (90,2), 'Is your data loaded correctly?'\n",
        "print('Correct! Continue to the next question.')"
      ],
      "execution_count": 3,
      "outputs": [
        {
          "output_type": "stream",
          "text": [
            "Correct! Continue to the next question.\n"
          ],
          "name": "stdout"
        }
      ]
    },
    {
      "cell_type": "markdown",
      "metadata": {
        "id": "9IM1_QLdlZRH"
      },
      "source": [
        "1)  Write the null and alternative hypotheses for this scenario in words and symbols."
      ]
    },
    {
      "cell_type": "markdown",
      "metadata": {
        "id": "uQ5MJ7X5Zgu-"
      },
      "source": [
        "Null hypothesis:\n",
        "\n",
        "Alternative hypothesis: \n",
        "\n",
        "$H_0: \\mu =$ 8.2\n",
        "\n",
        "$H_a: \\mu \\neq$ 8.2"
      ]
    },
    {
      "cell_type": "markdown",
      "metadata": {
        "id": "1oLIDxV4eNAh"
      },
      "source": [
        "2) Calculate the mean number of mosquito touches in the sample. Assign your answer to the variable `mosquito_touch_mean`."
      ]
    },
    {
      "cell_type": "code",
      "metadata": {
        "id": "_LKmeQfCm3_Y",
        "outputId": "8f72ab2b-9747-436a-c6d0-6ea88ee0f209",
        "colab": {
          "base_uri": "https://localhost:8080/",
          "height": 34
        }
      },
      "source": [
        "# mean number of mosquito touches\n",
        "\n",
        "mosquito_touch_mean = mosquito_df['Mosq_count'].mean()\n",
        "print(mosquito_touch_mean)\n"
      ],
      "execution_count": 4,
      "outputs": [
        {
          "output_type": "stream",
          "text": [
            "8.011111111111111\n"
          ],
          "name": "stdout"
        }
      ]
    },
    {
      "cell_type": "code",
      "metadata": {
        "id": "zhtbjnD1xsK1",
        "outputId": "c4f51b05-99e4-4b00-98a7-ce7635bd2682",
        "colab": {
          "base_uri": "https://localhost:8080/",
          "height": 34
        }
      },
      "source": [
        "# This is an ANSWER CHECK cell.\n",
        "# Don't alter this cell if you want accurate feedback\n",
        "#------------------------------------------------------------------------------#\n",
        "\n",
        "# check the value of the mean\n",
        "assert round(mosquito_touch_mean) == 8, 'Did you use the `.mean()` method?'\n",
        "print('Correct! Continue to the next question.')"
      ],
      "execution_count": 5,
      "outputs": [
        {
          "output_type": "stream",
          "text": [
            "Correct! Continue to the next question.\n"
          ],
          "name": "stdout"
        }
      ]
    },
    {
      "cell_type": "markdown",
      "metadata": {
        "id": "NQ4H8G-olZZW"
      },
      "source": [
        "3) Calculate the standard deviation of the number of mosquito touches in the sample. Assign your answer to `mosquito_touch_std`."
      ]
    },
    {
      "cell_type": "code",
      "metadata": {
        "id": "Yid669BqnF9D",
        "outputId": "e77936a5-4729-4a26-d8a7-6ca6b7421df9",
        "colab": {
          "base_uri": "https://localhost:8080/",
          "height": 34
        }
      },
      "source": [
        "#### YOUR CODE HERE ####\n",
        "mosquito_touch_std = mosquito_df['Mosq_count'].std()\n",
        "print(mosquito_touch_std)"
      ],
      "execution_count": 7,
      "outputs": [
        {
          "output_type": "stream",
          "text": [
            "3.2825532828777257\n"
          ],
          "name": "stdout"
        }
      ]
    },
    {
      "cell_type": "code",
      "metadata": {
        "id": "KBbPjs8PX4QT",
        "outputId": "311cc55e-4582-49ad-ad38-fa6f50447922",
        "colab": {
          "base_uri": "https://localhost:8080/",
          "height": 34
        }
      },
      "source": [
        "# This is an ANSWER CHECK cell.\n",
        "# Don't alter this cell if you want accurate feedback\n",
        "#------------------------------------------------------------------------------#\n",
        "\n",
        "# check the value of the standard deviation\n",
        "assert round(mosquito_touch_std) == 3, 'Did you use the .std() method?'\n",
        "print('Correct! Continue to the next question.')"
      ],
      "execution_count": 8,
      "outputs": [
        {
          "output_type": "stream",
          "text": [
            "Correct! Continue to the next question.\n"
          ],
          "name": "stdout"
        }
      ]
    },
    {
      "cell_type": "markdown",
      "metadata": {
        "id": "lkPpBpMAlZhE"
      },
      "source": [
        "4) Conduct a 1-sample t-test to test your hypotheses. Assign your t-test result to the variable `mosquito_pval`."
      ]
    },
    {
      "cell_type": "code",
      "metadata": {
        "id": "pcKVLpy1bIF2",
        "outputId": "e81c8c26-99df-4a76-fbc0-2d1574f59b26",
        "colab": {
          "base_uri": "https://localhost:8080/",
          "height": 34
        }
      },
      "source": [
        "# Use the 'ttest_1samp' from the stats package\n",
        "from scipy import stats\n",
        "mosquito_pval = stats.stats.ttest_1samp(mosquito_df['Mosq_count'], 8.2)\n",
        "print(mosquito_pval[1])\n",
        "#### YOUR CODE HERE ####\n"
      ],
      "execution_count": 12,
      "outputs": [
        {
          "output_type": "stream",
          "text": [
            "0.5864980356272131\n"
          ],
          "name": "stdout"
        }
      ]
    },
    {
      "cell_type": "code",
      "metadata": {
        "id": "LLz8sY1BiI78",
        "outputId": "c095dbe5-68cd-4b27-8878-38a47c7ce821",
        "colab": {
          "base_uri": "https://localhost:8080/",
          "height": 34
        }
      },
      "source": [
        "# This is an ANSWER CHECK cell.\n",
        "# Don't alter this cell if you want accurate feedback\n",
        "#------------------------------------------------------------------------------#\n",
        "\n",
        "# check the p-value\n",
        "assert round(mosquito_pval[1], 3) == 0.586, 'Did you use the correct population mean?'\n",
        "print('Correct! Continue to the next question.')"
      ],
      "execution_count": 13,
      "outputs": [
        {
          "output_type": "stream",
          "text": [
            "Correct! Continue to the next question.\n"
          ],
          "name": "stdout"
        }
      ]
    },
    {
      "cell_type": "markdown",
      "metadata": {
        "id": "MEno_XehnULz"
      },
      "source": [
        "5) Report your conclusion at the 0.05 significance level. Write your answer in the cell below."
      ]
    },
    {
      "cell_type": "markdown",
      "metadata": {
        "id": "UinBqKeXZ7Hq"
      },
      "source": [
        "Conclusion: We fail to reject the null hypothesis at the 0.05 significance level that the mean number of mosquitos landing on soldiers, without the repellant patch, was 8.2 per hour."
      ]
    },
    {
      "cell_type": "markdown",
      "metadata": {
        "id": "FGnFRSjRqG9s"
      },
      "source": [
        "#Use the following information to answer questions 6) - 10)\n",
        "\n"
      ]
    },
    {
      "cell_type": "markdown",
      "metadata": {
        "id": "lBX5xjgaqm_Z"
      },
      "source": [
        "More than 14,000 people finished the 2020 Disney Marathon held on January 12. \n",
        "The results by age and gender group are included in the Disney.csv dataset. \n",
        "\n",
        "\n",
        "**We wish to determine if the mean finishing time for male and female marathon runners is the same or if there is a difference in the mean finishing time between male and female marathon runners.**\n",
        "\n",
        "\n",
        "Source: Track Shack. 2020. [2020 Disney Marathon Race Results](https://www.trackshackresults.com/disneysports/results/wdw/wdw20/mar_results.php)"
      ]
    },
    {
      "cell_type": "code",
      "metadata": {
        "id": "KIpOQrHytz2P"
      },
      "source": [
        "# Run this cell to load the dataset into a DataFrame\n",
        "import pandas as pd\n",
        "\n",
        "disney_url = 'https://raw.githubusercontent.com/LambdaSchool/data-science-practice-datasets/main/unit_1/Disney_Marathon/Disney.csv'\n",
        "\n",
        "disney_df = pd.read_csv(disney_url, skipinitialspace=True, header=0)"
      ],
      "execution_count": 14,
      "outputs": []
    },
    {
      "cell_type": "markdown",
      "metadata": {
        "id": "W8nJTYJeoImX"
      },
      "source": [
        "Take a look at your DataFrame. "
      ]
    },
    {
      "cell_type": "code",
      "metadata": {
        "id": "bK4x4fXomahP",
        "outputId": "ddeede1c-fc8f-4396-d625-7f5c8c18f04d",
        "colab": {
          "base_uri": "https://localhost:8080/",
          "height": 212
        }
      },
      "source": [
        "#### YOUR CODE HERE ####\n",
        "disney_mean = disney_df['time'].mean()\n",
        "print(disney_mean)\n",
        "disney_df.head()"
      ],
      "execution_count": 17,
      "outputs": [
        {
          "output_type": "stream",
          "text": [
            "6.0621262031894485\n"
          ],
          "name": "stdout"
        },
        {
          "output_type": "execute_result",
          "data": {
            "text/html": [
              "<div>\n",
              "<style scoped>\n",
              "    .dataframe tbody tr th:only-of-type {\n",
              "        vertical-align: middle;\n",
              "    }\n",
              "\n",
              "    .dataframe tbody tr th {\n",
              "        vertical-align: top;\n",
              "    }\n",
              "\n",
              "    .dataframe thead th {\n",
              "        text-align: right;\n",
              "    }\n",
              "</style>\n",
              "<table border=\"1\" class=\"dataframe\">\n",
              "  <thead>\n",
              "    <tr style=\"text-align: right;\">\n",
              "      <th></th>\n",
              "      <th>ID</th>\n",
              "      <th>gender</th>\n",
              "      <th>age</th>\n",
              "      <th>group</th>\n",
              "      <th>time</th>\n",
              "    </tr>\n",
              "  </thead>\n",
              "  <tbody>\n",
              "    <tr>\n",
              "      <th>0</th>\n",
              "      <td>1</td>\n",
              "      <td>M</td>\n",
              "      <td>30</td>\n",
              "      <td>M30-34</td>\n",
              "      <td>2.371944</td>\n",
              "    </tr>\n",
              "    <tr>\n",
              "      <th>1</th>\n",
              "      <td>2</td>\n",
              "      <td>M</td>\n",
              "      <td>26</td>\n",
              "      <td>M25-29</td>\n",
              "      <td>2.450556</td>\n",
              "    </tr>\n",
              "    <tr>\n",
              "      <th>2</th>\n",
              "      <td>3</td>\n",
              "      <td>M</td>\n",
              "      <td>32</td>\n",
              "      <td>M30-34</td>\n",
              "      <td>2.457778</td>\n",
              "    </tr>\n",
              "    <tr>\n",
              "      <th>3</th>\n",
              "      <td>4</td>\n",
              "      <td>M</td>\n",
              "      <td>35</td>\n",
              "      <td>M35-39</td>\n",
              "      <td>2.655833</td>\n",
              "    </tr>\n",
              "    <tr>\n",
              "      <th>4</th>\n",
              "      <td>5</td>\n",
              "      <td>M</td>\n",
              "      <td>26</td>\n",
              "      <td>M25-29</td>\n",
              "      <td>2.736111</td>\n",
              "    </tr>\n",
              "  </tbody>\n",
              "</table>\n",
              "</div>"
            ],
            "text/plain": [
              "   ID gender  age   group      time\n",
              "0   1      M   30  M30-34  2.371944\n",
              "1   2      M   26  M25-29  2.450556\n",
              "2   3      M   32  M30-34  2.457778\n",
              "3   4      M   35  M35-39  2.655833\n",
              "4   5      M   26  M25-29  2.736111"
            ]
          },
          "metadata": {
            "tags": []
          },
          "execution_count": 17
        }
      ]
    },
    {
      "cell_type": "markdown",
      "metadata": {
        "id": "Llk7ugCgt3vI"
      },
      "source": [
        "6)  Write the null and alternative hypotheses for this scenario in words and symbols."
      ]
    },
    {
      "cell_type": "markdown",
      "metadata": {
        "id": "ooNYaYZppAeX"
      },
      "source": [
        "Null hypothesis:\n",
        "\n",
        "Alternative hypothesis: \n",
        "\n",
        "$H_0: \\mu =$ 6.06\n",
        "\n",
        "$H_a: \\mu \\neq$ 6.06"
      ]
    },
    {
      "cell_type": "markdown",
      "metadata": {
        "id": "Q7Ubu1jUt9j5"
      },
      "source": [
        "7) Create two separate Series (a pandas DataFrame column is a Series):\n",
        "* one containing finishing times for male participants (`male_finish`)\n",
        "* one containing finishing times for female participants (`female_finish`)"
      ]
    },
    {
      "cell_type": "code",
      "metadata": {
        "id": "ylBWuodTq1Fd"
      },
      "source": [
        "#### YOUR CODE HERE ####\n",
        "male_times = disney_df[disney_df['gender']=='M']\n",
        "female_times = disney_df[disney_df['gender']=='F']\n",
        "male_finish = male_times['time']\n",
        "female_finish = female_times['time']"
      ],
      "execution_count": 25,
      "outputs": []
    },
    {
      "cell_type": "code",
      "metadata": {
        "id": "36x2kQgnQhUy",
        "outputId": "58196b8e-fa45-4ebe-866b-e0ce9cdb13ef",
        "colab": {
          "base_uri": "https://localhost:8080/",
          "height": 34
        }
      },
      "source": [
        "# This is an ANSWER CHECK cell.\n",
        "# Don't alter this cell if you want accurate feedback\n",
        "#------------------------------------------------------------------------------#\n",
        "\n",
        "# check the length of each Series\n",
        "assert  male_finish.shape == (6577,), 'Make sure you selected M and only have a single column.'\n",
        "assert  female_finish.shape == (7529,), 'Make sure you selected F and only have a single column'\n",
        "print('Correct! Continue to the next question')"
      ],
      "execution_count": 26,
      "outputs": [
        {
          "output_type": "stream",
          "text": [
            "Correct! Continue to the next question\n"
          ],
          "name": "stdout"
        }
      ]
    },
    {
      "cell_type": "markdown",
      "metadata": {
        "id": "RA1p4tFpuNqi"
      },
      "source": [
        "8) Calculate the mean finishing time for male and female participants separately. Name your variables `male_finish_mean` and `female_finish_mean`."
      ]
    },
    {
      "cell_type": "code",
      "metadata": {
        "id": "zrvxxR1erCbq",
        "outputId": "e7d61b52-dec8-4206-cce1-7ab2af81d3aa",
        "colab": {
          "base_uri": "https://localhost:8080/",
          "height": 50
        }
      },
      "source": [
        "#### YOUR CODE HERE ####\n",
        "male_finish_mean = male_finish.mean()\n",
        "female_finish_mean = female_finish.mean()\n",
        "print(male_finish_mean)\n",
        "print(female_finish_mean)"
      ],
      "execution_count": 29,
      "outputs": [
        {
          "output_type": "stream",
          "text": [
            "5.799159782400031\n",
            "6.291841988756132\n"
          ],
          "name": "stdout"
        }
      ]
    },
    {
      "cell_type": "code",
      "metadata": {
        "id": "uI6qC8nyWOeP",
        "outputId": "f489a62c-f1d2-4dc2-cb4d-cf3a6aa9086f",
        "colab": {
          "base_uri": "https://localhost:8080/",
          "height": 34
        }
      },
      "source": [
        "# This is an ANSWER CHECK cell.\n",
        "# Don't alter this cell if you want accurate feedback\n",
        "#------------------------------------------------------------------------------#\n",
        "\n",
        "# check the values of the means\n",
        "assert  round(male_finish_mean, 2) == 5.80, 'Did you use the .mean() method?'\n",
        "assert  round(female_finish_mean, 2) == 6.29, 'Did you use the .mean() method?'\n",
        "print('Correct! Continue to the next question')"
      ],
      "execution_count": 28,
      "outputs": [
        {
          "output_type": "stream",
          "text": [
            "Correct! Continue to the next question\n"
          ],
          "name": "stdout"
        }
      ]
    },
    {
      "cell_type": "markdown",
      "metadata": {
        "id": "63dguZiduX0Y"
      },
      "source": [
        "9) Calculate standard deviation of the mean finishing time for male and female participants separately. Name your variables `male_finish_std` and `female_finish_std`."
      ]
    },
    {
      "cell_type": "code",
      "metadata": {
        "id": "-VNzi8-icURG",
        "outputId": "61213b08-9fda-4c53-b157-63718d5227b8",
        "colab": {
          "base_uri": "https://localhost:8080/",
          "height": 50
        }
      },
      "source": [
        "#### YOUR CODE HERE ####\n",
        "male_finish_std = male_finish.std()\n",
        "female_finish_std = female_finish.std()\n",
        "print(male_finish_std)\n",
        "print(female_finish_std)"
      ],
      "execution_count": 30,
      "outputs": [
        {
          "output_type": "stream",
          "text": [
            "1.100676340530379\n",
            "0.896690100351361\n"
          ],
          "name": "stdout"
        }
      ]
    },
    {
      "cell_type": "code",
      "metadata": {
        "id": "uJvCZhNSe4xX",
        "outputId": "b84d3d0d-87dd-4f30-e8f6-64dbaf923ca5",
        "colab": {
          "base_uri": "https://localhost:8080/",
          "height": 34
        }
      },
      "source": [
        "# This is an ANSWER CHECK cell.\n",
        "# Don't alter this cell if you want accurate feedback\n",
        "#------------------------------------------------------------------------------#\n",
        "\n",
        "# check the values of the standard deviations\n",
        "assert  round(male_finish_std, 2) == 1.10, 'Did you use the .std() method?'\n",
        "assert  round(female_finish_std, 2) == 0.90, 'Did you use the .std() method?'\n",
        "print('Correct! Continue to the next question')"
      ],
      "execution_count": 31,
      "outputs": [
        {
          "output_type": "stream",
          "text": [
            "Correct! Continue to the next question\n"
          ],
          "name": "stdout"
        }
      ]
    },
    {
      "cell_type": "markdown",
      "metadata": {
        "id": "M1-WzcJxufOO"
      },
      "source": [
        "10) Conduct a 2-sample t-test to test your hypotheses.\n",
        "* Assign the t-statistic to a variable called `disney_tval`\n",
        "* Assign the p-value to a variable called `disney_pval`\n",
        "\n",
        "Hint: The function returns two values and you can assign them with one line (example):\n",
        "\n",
        "`variable1, variable2` = `some.function(arguments)`"
      ]
    },
    {
      "cell_type": "code",
      "metadata": {
        "id": "17X_juDNhGTL",
        "outputId": "34683805-16f4-4f23-ac85-6e3721bed525",
        "colab": {
          "base_uri": "https://localhost:8080/",
          "height": 50
        }
      },
      "source": [
        "# Use the 'ttest_ind' from the stats package\n",
        "from scipy import stats\n",
        "\n",
        "#### YOUR CODE HERE ####\n",
        "disney_tval, disney_pval = stats.stats.ttest_ind(male_finish, female_finish)\n",
        "print(disney_tval)\n",
        "print(disney_pval)"
      ],
      "execution_count": 32,
      "outputs": [
        {
          "output_type": "stream",
          "text": [
            "-29.27857393997243\n",
            "5.485138013952879e-183\n"
          ],
          "name": "stdout"
        }
      ]
    },
    {
      "cell_type": "markdown",
      "metadata": {
        "id": "rTw_EoXTukqT"
      },
      "source": [
        "11) Report your conclusion at the 0.05 significance level."
      ]
    },
    {
      "cell_type": "markdown",
      "metadata": {
        "id": "muyHJENUSk6T"
      },
      "source": [
        "The low p-value means that the chosen mean will be very unlikely to show up in observations. Therefore, we have to reject the null hypothesis that the mean time between males and females would be no different."
      ]
    },
    {
      "cell_type": "markdown",
      "metadata": {
        "id": "Pk1mhw7ZuzW3"
      },
      "source": [
        "\n",
        "\n",
        "---\n",
        "\n"
      ]
    },
    {
      "cell_type": "markdown",
      "metadata": {
        "id": "4walH_MwwMeQ"
      },
      "source": [
        "In your own words: "
      ]
    },
    {
      "cell_type": "markdown",
      "metadata": {
        "id": "ARSKtv4Eu0nF"
      },
      "source": [
        "12) Explain the Central Limit Theorem.\n",
        "-  No matter the distribution that the sample is pulled from, if the sample size is large enough, it's mean will be close to the population mean."
      ]
    },
    {
      "cell_type": "markdown",
      "metadata": {
        "id": "AMUR9gVrv2dA"
      },
      "source": [
        "13) Describe the Normal Distribution.\n",
        "-  Almost all observations are right near the mean and few are far away."
      ]
    },
    {
      "cell_type": "markdown",
      "metadata": {
        "id": "Gc_30f32v9t9"
      },
      "source": [
        "14) Describe the relationship between the Normal distribution and the t-distribution.\n",
        "-  By finding t-values from multiple samples, those values can be plotted to show a t-distribution."
      ]
    },
    {
      "cell_type": "markdown",
      "metadata": {
        "id": "2nBflmIWwU_3"
      },
      "source": [
        "15) Write about who William Sealy Gosset was.\n",
        "-  Gosset worked as head brewer and in quality assurance at Guiness. He came up with the idea that one or multiple sample sizes can change the distribution."
      ]
    },
    {
      "cell_type": "markdown",
      "metadata": {
        "id": "nbvqZnZXu8r0"
      },
      "source": [
        "#Portfolio Project Milestone\n",
        "\n",
        "Write the first draft of your research question.  This is a question that should be answerable with two visualizations and a blog post.  \n",
        "\n",
        "You should have selected a dataset and have a good idea what your research question is by the end of the day.  If you don't - please ask for help from your instructor, track team or mentor."
      ]
    }
  ]
}